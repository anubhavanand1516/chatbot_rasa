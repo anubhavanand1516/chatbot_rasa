{
  "cells": [
    {
      "cell_type": "markdown",
      "metadata": {
        "id": "view-in-github",
        "colab_type": "text"
      },
      "source": [
        "<a href=\"https://colab.research.google.com/github/anubhavanand1516/chatbot_rasa/blob/main/rasa_project.ipynb\" target=\"_parent\"><img src=\"https://colab.research.google.com/assets/colab-badge.svg\" alt=\"Open In Colab\"/></a>"
      ]
    },
    {
      "cell_type": "code",
      "execution_count": 1,
      "metadata": {
        "id": "ovYZ3gYquRR_",
        "colab": {
          "base_uri": "https://localhost:8080/"
        },
        "outputId": "7998e513-494f-4e53-fce5-22315d199377"
      },
      "outputs": [
        {
          "output_type": "stream",
          "name": "stdout",
          "text": [
            "Looking in indexes: https://pypi.org/simple, https://us-python.pkg.dev/colab-wheels/public/simple/\n",
            "Requirement already satisfied: rasa==1.10.5 in /usr/local/lib/python3.7/dist-packages (1.10.5)\n",
            "Requirement already satisfied: webexteamssdk<1.4.0,>=1.1.1 in /usr/local/lib/python3.7/dist-packages (from rasa==1.10.5) (1.3)\n",
            "Requirement already satisfied: scipy<2.0.0,>=1.4.1 in /usr/local/lib/python3.7/dist-packages (from rasa==1.10.5) (1.7.3)\n",
            "Requirement already satisfied: tensorflow-probability<0.10,>=0.7 in /usr/local/lib/python3.7/dist-packages (from rasa==1.10.5) (0.9.0)\n",
            "Requirement already satisfied: pika<1.2.0,>=1.1.0 in /usr/local/lib/python3.7/dist-packages (from rasa==1.10.5) (1.1.0)\n",
            "Requirement already satisfied: sanic-jwt<1.5.0,>=1.3.2 in /usr/local/lib/python3.7/dist-packages (from rasa==1.10.5) (1.4.1)\n",
            "Requirement already satisfied: python-dateutil<2.9,>=2.8 in /usr/local/lib/python3.7/dist-packages (from rasa==1.10.5) (2.8.2)\n",
            "Requirement already satisfied: fbmessenger<6.1.0,>=6.0.0 in /usr/local/lib/python3.7/dist-packages (from rasa==1.10.5) (6.0.0)\n",
            "Requirement already satisfied: boto3<2.0,>=1.12 in /usr/local/lib/python3.7/dist-packages (from rasa==1.10.5) (1.24.54)\n",
            "Requirement already satisfied: gevent<1.6,>=1.4 in /usr/local/lib/python3.7/dist-packages (from rasa==1.10.5) (1.5.0)\n",
            "Requirement already satisfied: redis<4.0,>=3.4 in /usr/local/lib/python3.7/dist-packages (from rasa==1.10.5) (3.5.3)\n",
            "Requirement already satisfied: attrs<19.4,>=19.3 in /usr/local/lib/python3.7/dist-packages (from rasa==1.10.5) (19.3.0)\n",
            "Requirement already satisfied: scikit-learn<0.23,>=0.22 in /usr/local/lib/python3.7/dist-packages (from rasa==1.10.5) (0.22.2.post1)\n",
            "Requirement already satisfied: PyJWT<1.8,>=1.7 in /usr/local/lib/python3.7/dist-packages (from rasa==1.10.5) (1.7.1)\n",
            "Requirement already satisfied: async_generator<1.11,>=1.10 in /usr/local/lib/python3.7/dist-packages (from rasa==1.10.5) (1.10)\n",
            "Requirement already satisfied: multidict<5.0,>=4.6 in /usr/local/lib/python3.7/dist-packages (from rasa==1.10.5) (4.7.6)\n",
            "Requirement already satisfied: oauth2client==4.1.3 in /usr/local/lib/python3.7/dist-packages (from rasa==1.10.5) (4.1.3)\n",
            "Requirement already satisfied: pykwalify<1.8.0,>=1.7.0 in /usr/local/lib/python3.7/dist-packages (from rasa==1.10.5) (1.7.0)\n",
            "Requirement already satisfied: tensorflow<2.2,>=2.1 in /usr/local/lib/python3.7/dist-packages (from rasa==1.10.5) (2.1.4)\n",
            "Requirement already satisfied: sanic-cors<0.11.0,>=0.10.0b1 in /usr/local/lib/python3.7/dist-packages (from rasa==1.10.5) (0.10.0.post3)\n",
            "Requirement already satisfied: python-telegram-bot<13.0,>=11.1 in /usr/local/lib/python3.7/dist-packages (from rasa==1.10.5) (12.8)\n",
            "Requirement already satisfied: setuptools>=41.0.0 in /usr/local/lib/python3.7/dist-packages (from rasa==1.10.5) (57.4.0)\n",
            "Requirement already satisfied: sklearn-crfsuite<0.4,>=0.3 in /usr/local/lib/python3.7/dist-packages (from rasa==1.10.5) (0.3.6)\n",
            "Requirement already satisfied: kafka-python<2.0,>=1.4 in /usr/local/lib/python3.7/dist-packages (from rasa==1.10.5) (1.4.7)\n",
            "Requirement already satisfied: psycopg2-binary<2.9.0,>=2.8.2 in /usr/local/lib/python3.7/dist-packages (from rasa==1.10.5) (2.8.6)\n",
            "Requirement already satisfied: regex<2020.7,>=2020.6 in /usr/local/lib/python3.7/dist-packages (from rasa==1.10.5) (2020.6.8)\n",
            "Requirement already satisfied: colorclass<2.3,>=2.2 in /usr/local/lib/python3.7/dist-packages (from rasa==1.10.5) (2.2.2)\n",
            "Requirement already satisfied: slackclient<3.0.0,>=2.0.0 in /usr/local/lib/python3.7/dist-packages (from rasa==1.10.5) (2.9.4)\n",
            "Requirement already satisfied: tqdm<4.46,>=4.31 in /usr/local/lib/python3.7/dist-packages (from rasa==1.10.5) (4.45.0)\n",
            "Requirement already satisfied: absl-py<0.10,>=0.9 in /usr/local/lib/python3.7/dist-packages (from rasa==1.10.5) (0.9.0)\n",
            "Requirement already satisfied: requests<3.0,>=2.23 in /usr/local/lib/python3.7/dist-packages (from rasa==1.10.5) (2.23.0)\n",
            "Requirement already satisfied: rocketchat_API<1.4.0,>=0.6.31 in /usr/local/lib/python3.7/dist-packages (from rasa==1.10.5) (1.3.1)\n",
            "Requirement already satisfied: ruamel.yaml<0.17,>=0.16 in /usr/local/lib/python3.7/dist-packages (from rasa==1.10.5) (0.16.13)\n",
            "Requirement already satisfied: mattermostwrapper<2.3,>=2.2 in /usr/local/lib/python3.7/dist-packages (from rasa==1.10.5) (2.2)\n",
            "Requirement already satisfied: pydot<1.5,>=1.4 in /usr/local/lib/python3.7/dist-packages (from rasa==1.10.5) (1.4.2)\n",
            "Requirement already satisfied: python-socketio<4.6,>=4.4 in /usr/local/lib/python3.7/dist-packages (from rasa==1.10.5) (4.5.1)\n",
            "Requirement already satisfied: packaging<21.0,>=20.0 in /usr/local/lib/python3.7/dist-packages (from rasa==1.10.5) (20.9)\n",
            "Requirement already satisfied: tensorflow_hub<0.9,>=0.7 in /usr/local/lib/python3.7/dist-packages (from rasa==1.10.5) (0.8.0)\n",
            "Requirement already satisfied: apscheduler<3.7,>=3.6 in /usr/local/lib/python3.7/dist-packages (from rasa==1.10.5) (3.6.3)\n",
            "Requirement already satisfied: matplotlib<3.3,>=3.1 in /usr/local/lib/python3.7/dist-packages (from rasa==1.10.5) (3.2.2)\n",
            "Requirement already satisfied: python-engineio<3.13,>=3.11 in /usr/local/lib/python3.7/dist-packages (from rasa==1.10.5) (3.12.1)\n",
            "Requirement already satisfied: colorhash<1.1.0,>=1.0.2 in /usr/local/lib/python3.7/dist-packages (from rasa==1.10.5) (1.0.4)\n",
            "Requirement already satisfied: terminaltables<3.2.0,>=3.1.0 in /usr/local/lib/python3.7/dist-packages (from rasa==1.10.5) (3.1.10)\n",
            "Requirement already satisfied: jsonschema<3.3,>=3.2 in /usr/local/lib/python3.7/dist-packages (from rasa==1.10.5) (3.2.0)\n",
            "Requirement already satisfied: networkx<2.5.0,>=2.4.0 in /usr/local/lib/python3.7/dist-packages (from rasa==1.10.5) (2.4)\n",
            "Requirement already satisfied: twilio<6.27,>=6.26 in /usr/local/lib/python3.7/dist-packages (from rasa==1.10.5) (6.26.3)\n",
            "Requirement already satisfied: prompt-toolkit<3.0,>=2.0 in /usr/local/lib/python3.7/dist-packages (from rasa==1.10.5) (2.0.10)\n",
            "Requirement already satisfied: sanic<20.0.0,>=19.12.2 in /usr/local/lib/python3.7/dist-packages (from rasa==1.10.5) (19.12.2)\n",
            "Requirement already satisfied: questionary<1.6.0,>=1.5.1 in /usr/local/lib/python3.7/dist-packages (from rasa==1.10.5) (1.5.2)\n",
            "Requirement already satisfied: tensorflow-addons<0.8.0,>=0.7.1 in /usr/local/lib/python3.7/dist-packages (from rasa==1.10.5) (0.7.1)\n",
            "Requirement already satisfied: pymongo[srv,tls]<3.9.0,>=3.8.0 in /usr/local/lib/python3.7/dist-packages (from rasa==1.10.5) (3.8.0)\n",
            "Requirement already satisfied: ujson<3.0,>=1.35 in /usr/local/lib/python3.7/dist-packages (from rasa==1.10.5) (2.0.3)\n",
            "Requirement already satisfied: coloredlogs<11.0,>=10.0 in /usr/local/lib/python3.7/dist-packages (from rasa==1.10.5) (10.0)\n",
            "Requirement already satisfied: SQLAlchemy<1.4.0,>=1.3.3 in /usr/local/lib/python3.7/dist-packages (from rasa==1.10.5) (1.3.24)\n",
            "Requirement already satisfied: numpy<2.0,>=1.16 in /usr/local/lib/python3.7/dist-packages (from rasa==1.10.5) (1.18.5)\n",
            "Requirement already satisfied: tensorflow-estimator==2.1.0 in /usr/local/lib/python3.7/dist-packages (from rasa==1.10.5) (2.1.0)\n",
            "Requirement already satisfied: rasa-sdk<2.0.0,>=1.10.0 in /usr/local/lib/python3.7/dist-packages (from rasa==1.10.5) (1.10.3)\n",
            "Requirement already satisfied: aiohttp<3.7,>=3.6 in /usr/local/lib/python3.7/dist-packages (from rasa==1.10.5) (3.6.3)\n",
            "Requirement already satisfied: cloudpickle<1.4,>=1.2 in /usr/local/lib/python3.7/dist-packages (from rasa==1.10.5) (1.3.0)\n",
            "Requirement already satisfied: jsonpickle<1.5,>=1.3 in /usr/local/lib/python3.7/dist-packages (from rasa==1.10.5) (1.4.2)\n",
            "Requirement already satisfied: pytz<2020.0,>=2019.1 in /usr/local/lib/python3.7/dist-packages (from rasa==1.10.5) (2019.3)\n",
            "Requirement already satisfied: rsa>=3.1.4 in /usr/local/lib/python3.7/dist-packages (from oauth2client==4.1.3->rasa==1.10.5) (4.9)\n",
            "Requirement already satisfied: httplib2>=0.9.1 in /usr/local/lib/python3.7/dist-packages (from oauth2client==4.1.3->rasa==1.10.5) (0.17.4)\n",
            "Requirement already satisfied: pyasn1-modules>=0.0.5 in /usr/local/lib/python3.7/dist-packages (from oauth2client==4.1.3->rasa==1.10.5) (0.2.8)\n",
            "Requirement already satisfied: six>=1.6.1 in /usr/local/lib/python3.7/dist-packages (from oauth2client==4.1.3->rasa==1.10.5) (1.15.0)\n",
            "Requirement already satisfied: pyasn1>=0.1.7 in /usr/local/lib/python3.7/dist-packages (from oauth2client==4.1.3->rasa==1.10.5) (0.4.8)\n",
            "Requirement already satisfied: async-timeout<4.0,>=3.0 in /usr/local/lib/python3.7/dist-packages (from aiohttp<3.7,>=3.6->rasa==1.10.5) (3.0.1)\n",
            "Requirement already satisfied: yarl<1.6.0,>=1.0 in /usr/local/lib/python3.7/dist-packages (from aiohttp<3.7,>=3.6->rasa==1.10.5) (1.5.1)\n",
            "Requirement already satisfied: chardet<4.0,>=2.0 in /usr/local/lib/python3.7/dist-packages (from aiohttp<3.7,>=3.6->rasa==1.10.5) (3.0.4)\n",
            "Requirement already satisfied: tzlocal>=1.2 in /usr/local/lib/python3.7/dist-packages (from apscheduler<3.7,>=3.6->rasa==1.10.5) (1.5.1)\n",
            "Requirement already satisfied: jmespath<2.0.0,>=0.7.1 in /usr/local/lib/python3.7/dist-packages (from boto3<2.0,>=1.12->rasa==1.10.5) (1.0.1)\n",
            "Requirement already satisfied: s3transfer<0.7.0,>=0.6.0 in /usr/local/lib/python3.7/dist-packages (from boto3<2.0,>=1.12->rasa==1.10.5) (0.6.0)\n",
            "Requirement already satisfied: botocore<1.28.0,>=1.27.54 in /usr/local/lib/python3.7/dist-packages (from boto3<2.0,>=1.12->rasa==1.10.5) (1.27.54)\n",
            "Requirement already satisfied: urllib3<1.27,>=1.25.4 in /usr/local/lib/python3.7/dist-packages (from botocore<1.28.0,>=1.27.54->boto3<2.0,>=1.12->rasa==1.10.5) (1.25.11)\n",
            "Requirement already satisfied: humanfriendly>=4.7 in /usr/local/lib/python3.7/dist-packages (from coloredlogs<11.0,>=10.0->rasa==1.10.5) (10.0)\n",
            "Requirement already satisfied: greenlet>=0.4.14 in /usr/local/lib/python3.7/dist-packages (from gevent<1.6,>=1.4->rasa==1.10.5) (1.1.2)\n",
            "Requirement already satisfied: importlib-metadata in /usr/local/lib/python3.7/dist-packages (from jsonpickle<1.5,>=1.3->rasa==1.10.5) (4.12.0)\n",
            "Requirement already satisfied: pyrsistent>=0.14.0 in /usr/local/lib/python3.7/dist-packages (from jsonschema<3.3,>=3.2->rasa==1.10.5) (0.18.1)\n",
            "Requirement already satisfied: pyparsing!=2.0.4,!=2.1.2,!=2.1.6,>=2.0.1 in /usr/local/lib/python3.7/dist-packages (from matplotlib<3.3,>=3.1->rasa==1.10.5) (3.0.9)\n",
            "Requirement already satisfied: cycler>=0.10 in /usr/local/lib/python3.7/dist-packages (from matplotlib<3.3,>=3.1->rasa==1.10.5) (0.11.0)\n",
            "Requirement already satisfied: kiwisolver>=1.0.1 in /usr/local/lib/python3.7/dist-packages (from matplotlib<3.3,>=3.1->rasa==1.10.5) (1.4.4)\n",
            "Requirement already satisfied: typing-extensions in /usr/local/lib/python3.7/dist-packages (from kiwisolver>=1.0.1->matplotlib<3.3,>=3.1->rasa==1.10.5) (4.1.1)\n",
            "Requirement already satisfied: decorator>=4.3.0 in /usr/local/lib/python3.7/dist-packages (from networkx<2.5.0,>=2.4.0->rasa==1.10.5) (4.4.2)\n",
            "Requirement already satisfied: wcwidth in /usr/local/lib/python3.7/dist-packages (from prompt-toolkit<3.0,>=2.0->rasa==1.10.5) (0.2.5)\n",
            "Requirement already satisfied: PyYAML>=3.11 in /usr/local/lib/python3.7/dist-packages (from pykwalify<1.8.0,>=1.7.0->rasa==1.10.5) (3.13)\n",
            "Requirement already satisfied: docopt>=0.6.2 in /usr/local/lib/python3.7/dist-packages (from pykwalify<1.8.0,>=1.7.0->rasa==1.10.5) (0.6.2)\n",
            "Requirement already satisfied: dnspython<2.0.0,>=1.13.0 in /usr/local/lib/python3.7/dist-packages (from pymongo[srv,tls]<3.9.0,>=3.8.0->rasa==1.10.5) (1.16.0)\n",
            "Requirement already satisfied: tornado>=5.1 in /usr/local/lib/python3.7/dist-packages (from python-telegram-bot<13.0,>=11.1->rasa==1.10.5) (5.1.1)\n",
            "Requirement already satisfied: cryptography in /usr/local/lib/python3.7/dist-packages (from python-telegram-bot<13.0,>=11.1->rasa==1.10.5) (37.0.4)\n",
            "Requirement already satisfied: certifi in /usr/local/lib/python3.7/dist-packages (from python-telegram-bot<13.0,>=11.1->rasa==1.10.5) (2022.6.15)\n",
            "Requirement already satisfied: idna<3,>=2.5 in /usr/local/lib/python3.7/dist-packages (from requests<3.0,>=2.23->rasa==1.10.5) (2.10)\n",
            "Requirement already satisfied: ruamel.yaml.clib>=0.1.2 in /usr/local/lib/python3.7/dist-packages (from ruamel.yaml<0.17,>=0.16->rasa==1.10.5) (0.2.6)\n",
            "Requirement already satisfied: httpx==0.9.3 in /usr/local/lib/python3.7/dist-packages (from sanic<20.0.0,>=19.12.2->rasa==1.10.5) (0.9.3)\n",
            "Requirement already satisfied: httptools>=0.0.10 in /usr/local/lib/python3.7/dist-packages (from sanic<20.0.0,>=19.12.2->rasa==1.10.5) (0.4.0)\n",
            "Requirement already satisfied: uvloop>=0.5.3 in /usr/local/lib/python3.7/dist-packages (from sanic<20.0.0,>=19.12.2->rasa==1.10.5) (0.16.0)\n",
            "Requirement already satisfied: websockets<9.0,>=7.0 in /usr/local/lib/python3.7/dist-packages (from sanic<20.0.0,>=19.12.2->rasa==1.10.5) (8.1)\n",
            "Requirement already satisfied: aiofiles>=0.3.0 in /usr/local/lib/python3.7/dist-packages (from sanic<20.0.0,>=19.12.2->rasa==1.10.5) (0.8.0)\n",
            "Requirement already satisfied: sniffio==1.* in /usr/local/lib/python3.7/dist-packages (from httpx==0.9.3->sanic<20.0.0,>=19.12.2->rasa==1.10.5) (1.2.0)\n",
            "Requirement already satisfied: h11==0.8.* in /usr/local/lib/python3.7/dist-packages (from httpx==0.9.3->sanic<20.0.0,>=19.12.2->rasa==1.10.5) (0.8.1)\n",
            "Requirement already satisfied: rfc3986<2,>=1.3 in /usr/local/lib/python3.7/dist-packages (from httpx==0.9.3->sanic<20.0.0,>=19.12.2->rasa==1.10.5) (1.5.0)\n",
            "Requirement already satisfied: h2==3.* in /usr/local/lib/python3.7/dist-packages (from httpx==0.9.3->sanic<20.0.0,>=19.12.2->rasa==1.10.5) (3.2.0)\n",
            "Requirement already satisfied: hstspreload in /usr/local/lib/python3.7/dist-packages (from httpx==0.9.3->sanic<20.0.0,>=19.12.2->rasa==1.10.5) (2022.8.1)\n",
            "Requirement already satisfied: hpack<4,>=3.0 in /usr/local/lib/python3.7/dist-packages (from h2==3.*->httpx==0.9.3->sanic<20.0.0,>=19.12.2->rasa==1.10.5) (3.0.0)\n",
            "Requirement already satisfied: hyperframe<6,>=5.2.0 in /usr/local/lib/python3.7/dist-packages (from h2==3.*->httpx==0.9.3->sanic<20.0.0,>=19.12.2->rasa==1.10.5) (5.2.0)\n",
            "Requirement already satisfied: sanic-plugins-framework>=0.9.0 in /usr/local/lib/python3.7/dist-packages (from sanic-cors<0.11.0,>=0.10.0b1->rasa==1.10.5) (0.9.5)\n",
            "Requirement already satisfied: joblib>=0.11 in /usr/local/lib/python3.7/dist-packages (from scikit-learn<0.23,>=0.22->rasa==1.10.5) (1.1.0)\n",
            "Requirement already satisfied: python-crfsuite>=0.8.3 in /usr/local/lib/python3.7/dist-packages (from sklearn-crfsuite<0.4,>=0.3->rasa==1.10.5) (0.9.8)\n",
            "Requirement already satisfied: tabulate in /usr/local/lib/python3.7/dist-packages (from sklearn-crfsuite<0.4,>=0.3->rasa==1.10.5) (0.8.10)\n",
            "Requirement already satisfied: wrapt>=1.11.1 in /usr/local/lib/python3.7/dist-packages (from tensorflow<2.2,>=2.1->rasa==1.10.5) (1.14.1)\n",
            "Requirement already satisfied: tensorboard<2.2.0,>=2.1.0 in /usr/local/lib/python3.7/dist-packages (from tensorflow<2.2,>=2.1->rasa==1.10.5) (2.1.1)\n",
            "Requirement already satisfied: google-pasta>=0.1.6 in /usr/local/lib/python3.7/dist-packages (from tensorflow<2.2,>=2.1->rasa==1.10.5) (0.2.0)\n",
            "Requirement already satisfied: termcolor>=1.1.0 in /usr/local/lib/python3.7/dist-packages (from tensorflow<2.2,>=2.1->rasa==1.10.5) (1.1.0)\n",
            "Requirement already satisfied: wheel>=0.26 in /usr/local/lib/python3.7/dist-packages (from tensorflow<2.2,>=2.1->rasa==1.10.5) (0.37.1)\n",
            "Requirement already satisfied: keras-preprocessing==1.1.0 in /usr/local/lib/python3.7/dist-packages (from tensorflow<2.2,>=2.1->rasa==1.10.5) (1.1.0)\n",
            "Requirement already satisfied: protobuf>=3.8.0 in /usr/local/lib/python3.7/dist-packages (from tensorflow<2.2,>=2.1->rasa==1.10.5) (3.17.3)\n",
            "Requirement already satisfied: keras-applications>=1.0.8 in /usr/local/lib/python3.7/dist-packages (from tensorflow<2.2,>=2.1->rasa==1.10.5) (1.0.8)\n",
            "Requirement already satisfied: opt-einsum>=2.3.2 in /usr/local/lib/python3.7/dist-packages (from tensorflow<2.2,>=2.1->rasa==1.10.5) (3.3.0)\n",
            "Requirement already satisfied: gast==0.2.2 in /usr/local/lib/python3.7/dist-packages (from tensorflow<2.2,>=2.1->rasa==1.10.5) (0.2.2)\n",
            "Requirement already satisfied: grpcio>=1.8.6 in /usr/local/lib/python3.7/dist-packages (from tensorflow<2.2,>=2.1->rasa==1.10.5) (1.47.0)\n",
            "Requirement already satisfied: astor>=0.6.0 in /usr/local/lib/python3.7/dist-packages (from tensorflow<2.2,>=2.1->rasa==1.10.5) (0.8.1)\n",
            "Requirement already satisfied: h5py<=2.10.0 in /usr/local/lib/python3.7/dist-packages (from tensorflow<2.2,>=2.1->rasa==1.10.5) (2.10.0)\n",
            "Requirement already satisfied: google-auth-oauthlib<0.5,>=0.4.1 in /usr/local/lib/python3.7/dist-packages (from tensorboard<2.2.0,>=2.1.0->tensorflow<2.2,>=2.1->rasa==1.10.5) (0.4.6)\n",
            "Requirement already satisfied: markdown>=2.6.8 in /usr/local/lib/python3.7/dist-packages (from tensorboard<2.2.0,>=2.1.0->tensorflow<2.2,>=2.1->rasa==1.10.5) (3.4.1)\n",
            "Requirement already satisfied: google-auth<2,>=1.6.3 in /usr/local/lib/python3.7/dist-packages (from tensorboard<2.2.0,>=2.1.0->tensorflow<2.2,>=2.1->rasa==1.10.5) (1.35.0)\n",
            "Requirement already satisfied: werkzeug>=0.11.15 in /usr/local/lib/python3.7/dist-packages (from tensorboard<2.2.0,>=2.1.0->tensorflow<2.2,>=2.1->rasa==1.10.5) (1.0.1)\n",
            "Requirement already satisfied: cachetools<5.0,>=2.0.0 in /usr/local/lib/python3.7/dist-packages (from google-auth<2,>=1.6.3->tensorboard<2.2.0,>=2.1.0->tensorflow<2.2,>=2.1->rasa==1.10.5) (4.2.4)\n",
            "Requirement already satisfied: requests-oauthlib>=0.7.0 in /usr/local/lib/python3.7/dist-packages (from google-auth-oauthlib<0.5,>=0.4.1->tensorboard<2.2.0,>=2.1.0->tensorflow<2.2,>=2.1->rasa==1.10.5) (1.3.1)\n",
            "Requirement already satisfied: zipp>=0.5 in /usr/local/lib/python3.7/dist-packages (from importlib-metadata->jsonpickle<1.5,>=1.3->rasa==1.10.5) (3.8.1)\n",
            "Requirement already satisfied: oauthlib>=3.0.0 in /usr/local/lib/python3.7/dist-packages (from requests-oauthlib>=0.7.0->google-auth-oauthlib<0.5,>=0.4.1->tensorboard<2.2.0,>=2.1.0->tensorflow<2.2,>=2.1->rasa==1.10.5) (3.2.0)\n",
            "Requirement already satisfied: pysocks in /usr/local/lib/python3.7/dist-packages (from twilio<6.27,>=6.26->rasa==1.10.5) (1.7.1)\n",
            "Requirement already satisfied: requests-toolbelt in /usr/local/lib/python3.7/dist-packages (from webexteamssdk<1.4.0,>=1.1.1->rasa==1.10.5) (0.9.1)\n",
            "Requirement already satisfied: future in /usr/local/lib/python3.7/dist-packages (from webexteamssdk<1.4.0,>=1.1.1->rasa==1.10.5) (0.16.0)\n",
            "Requirement already satisfied: cffi>=1.12 in /usr/local/lib/python3.7/dist-packages (from cryptography->python-telegram-bot<13.0,>=11.1->rasa==1.10.5) (1.15.1)\n",
            "Requirement already satisfied: pycparser in /usr/local/lib/python3.7/dist-packages (from cffi>=1.12->cryptography->python-telegram-bot<13.0,>=11.1->rasa==1.10.5) (2.21)\n"
          ]
        }
      ],
      "source": [
        "!pip install rasa==1.10.5"
      ]
    },
    {
      "cell_type": "code",
      "execution_count": 2,
      "metadata": {
        "id": "htClEr48uTDl",
        "colab": {
          "base_uri": "https://localhost:8080/"
        },
        "outputId": "57253880-d0c9-44a5-b2d0-6ab64463a7ee"
      },
      "outputs": [
        {
          "output_type": "stream",
          "name": "stdout",
          "text": [
            "2022-08-18 09:36:21.308806: W tensorflow/stream_executor/platform/default/dso_loader.cc:55] Could not load dynamic library 'libnvinfer.so.6'; dlerror: libnvinfer.so.6: cannot open shared object file: No such file or directory; LD_LIBRARY_PATH: /usr/local/nvidia/lib:/usr/local/nvidia/lib64\n",
            "2022-08-18 09:36:21.309054: W tensorflow/stream_executor/platform/default/dso_loader.cc:55] Could not load dynamic library 'libnvinfer_plugin.so.6'; dlerror: libnvinfer_plugin.so.6: cannot open shared object file: No such file or directory; LD_LIBRARY_PATH: /usr/local/nvidia/lib:/usr/local/nvidia/lib64\n",
            "2022-08-18 09:36:21.309089: W tensorflow/compiler/tf2tensorrt/utils/py_utils.cc:30] Cannot dlopen some TensorRT libraries. If you would like to use Nvidia GPU with TensorRT, please make sure the missing libraries mentioned above are installed properly.\n",
            "\u001b[38;5;3m⚠ As of spaCy v3.0, shortcuts like 'en' are deprecated. Please use the\n",
            "full pipeline package name 'en_core_web_sm' instead.\u001b[0m\n",
            "Looking in indexes: https://pypi.org/simple, https://us-python.pkg.dev/colab-wheels/public/simple/\n",
            "Collecting en-core-web-sm==3.4.0\n",
            "  Downloading https://github.com/explosion/spacy-models/releases/download/en_core_web_sm-3.4.0/en_core_web_sm-3.4.0-py3-none-any.whl (12.8 MB)\n",
            "\u001b[K     |████████████████████████████████| 12.8 MB 7.8 MB/s \n",
            "\u001b[?25hRequirement already satisfied: spacy<3.5.0,>=3.4.0 in /usr/local/lib/python3.7/dist-packages (from en-core-web-sm==3.4.0) (3.4.1)\n",
            "Requirement already satisfied: cymem<2.1.0,>=2.0.2 in /usr/local/lib/python3.7/dist-packages (from spacy<3.5.0,>=3.4.0->en-core-web-sm==3.4.0) (2.0.6)\n",
            "Requirement already satisfied: wasabi<1.1.0,>=0.9.1 in /usr/local/lib/python3.7/dist-packages (from spacy<3.5.0,>=3.4.0->en-core-web-sm==3.4.0) (0.10.1)\n",
            "Requirement already satisfied: typer<0.5.0,>=0.3.0 in /usr/local/lib/python3.7/dist-packages (from spacy<3.5.0,>=3.4.0->en-core-web-sm==3.4.0) (0.4.2)\n",
            "Requirement already satisfied: pydantic!=1.8,!=1.8.1,<1.10.0,>=1.7.4 in /usr/local/lib/python3.7/dist-packages (from spacy<3.5.0,>=3.4.0->en-core-web-sm==3.4.0) (1.9.2)\n",
            "Requirement already satisfied: typing-extensions<4.2.0,>=3.7.4 in /usr/local/lib/python3.7/dist-packages (from spacy<3.5.0,>=3.4.0->en-core-web-sm==3.4.0) (4.1.1)\n",
            "Requirement already satisfied: srsly<3.0.0,>=2.4.3 in /usr/local/lib/python3.7/dist-packages (from spacy<3.5.0,>=3.4.0->en-core-web-sm==3.4.0) (2.4.4)\n",
            "Requirement already satisfied: langcodes<4.0.0,>=3.2.0 in /usr/local/lib/python3.7/dist-packages (from spacy<3.5.0,>=3.4.0->en-core-web-sm==3.4.0) (3.3.0)\n",
            "Requirement already satisfied: jinja2 in /usr/local/lib/python3.7/dist-packages (from spacy<3.5.0,>=3.4.0->en-core-web-sm==3.4.0) (2.11.3)\n",
            "Requirement already satisfied: murmurhash<1.1.0,>=0.28.0 in /usr/local/lib/python3.7/dist-packages (from spacy<3.5.0,>=3.4.0->en-core-web-sm==3.4.0) (1.0.7)\n",
            "Requirement already satisfied: catalogue<2.1.0,>=2.0.6 in /usr/local/lib/python3.7/dist-packages (from spacy<3.5.0,>=3.4.0->en-core-web-sm==3.4.0) (2.0.8)\n",
            "Requirement already satisfied: pathy>=0.3.5 in /usr/local/lib/python3.7/dist-packages (from spacy<3.5.0,>=3.4.0->en-core-web-sm==3.4.0) (0.6.2)\n",
            "Requirement already satisfied: thinc<8.2.0,>=8.1.0 in /usr/local/lib/python3.7/dist-packages (from spacy<3.5.0,>=3.4.0->en-core-web-sm==3.4.0) (8.1.0)\n",
            "Requirement already satisfied: requests<3.0.0,>=2.13.0 in /usr/local/lib/python3.7/dist-packages (from spacy<3.5.0,>=3.4.0->en-core-web-sm==3.4.0) (2.23.0)\n",
            "Requirement already satisfied: spacy-loggers<2.0.0,>=1.0.0 in /usr/local/lib/python3.7/dist-packages (from spacy<3.5.0,>=3.4.0->en-core-web-sm==3.4.0) (1.0.3)\n",
            "Requirement already satisfied: spacy-legacy<3.1.0,>=3.0.9 in /usr/local/lib/python3.7/dist-packages (from spacy<3.5.0,>=3.4.0->en-core-web-sm==3.4.0) (3.0.9)\n",
            "Requirement already satisfied: tqdm<5.0.0,>=4.38.0 in /usr/local/lib/python3.7/dist-packages (from spacy<3.5.0,>=3.4.0->en-core-web-sm==3.4.0) (4.45.0)\n",
            "Requirement already satisfied: setuptools in /usr/local/lib/python3.7/dist-packages (from spacy<3.5.0,>=3.4.0->en-core-web-sm==3.4.0) (57.4.0)\n",
            "Requirement already satisfied: numpy>=1.15.0 in /usr/local/lib/python3.7/dist-packages (from spacy<3.5.0,>=3.4.0->en-core-web-sm==3.4.0) (1.18.5)\n",
            "Requirement already satisfied: packaging>=20.0 in /usr/local/lib/python3.7/dist-packages (from spacy<3.5.0,>=3.4.0->en-core-web-sm==3.4.0) (20.9)\n",
            "Requirement already satisfied: preshed<3.1.0,>=3.0.2 in /usr/local/lib/python3.7/dist-packages (from spacy<3.5.0,>=3.4.0->en-core-web-sm==3.4.0) (3.0.6)\n",
            "Requirement already satisfied: zipp>=0.5 in /usr/local/lib/python3.7/dist-packages (from catalogue<2.1.0,>=2.0.6->spacy<3.5.0,>=3.4.0->en-core-web-sm==3.4.0) (3.8.1)\n",
            "Requirement already satisfied: pyparsing>=2.0.2 in /usr/local/lib/python3.7/dist-packages (from packaging>=20.0->spacy<3.5.0,>=3.4.0->en-core-web-sm==3.4.0) (3.0.9)\n",
            "Requirement already satisfied: smart-open<6.0.0,>=5.2.1 in /usr/local/lib/python3.7/dist-packages (from pathy>=0.3.5->spacy<3.5.0,>=3.4.0->en-core-web-sm==3.4.0) (5.2.1)\n",
            "Requirement already satisfied: chardet<4,>=3.0.2 in /usr/local/lib/python3.7/dist-packages (from requests<3.0.0,>=2.13.0->spacy<3.5.0,>=3.4.0->en-core-web-sm==3.4.0) (3.0.4)\n",
            "Requirement already satisfied: urllib3!=1.25.0,!=1.25.1,<1.26,>=1.21.1 in /usr/local/lib/python3.7/dist-packages (from requests<3.0.0,>=2.13.0->spacy<3.5.0,>=3.4.0->en-core-web-sm==3.4.0) (1.25.11)\n",
            "Requirement already satisfied: certifi>=2017.4.17 in /usr/local/lib/python3.7/dist-packages (from requests<3.0.0,>=2.13.0->spacy<3.5.0,>=3.4.0->en-core-web-sm==3.4.0) (2022.6.15)\n",
            "Requirement already satisfied: idna<3,>=2.5 in /usr/local/lib/python3.7/dist-packages (from requests<3.0.0,>=2.13.0->spacy<3.5.0,>=3.4.0->en-core-web-sm==3.4.0) (2.10)\n",
            "Requirement already satisfied: blis<0.8.0,>=0.7.8 in /usr/local/lib/python3.7/dist-packages (from thinc<8.2.0,>=8.1.0->spacy<3.5.0,>=3.4.0->en-core-web-sm==3.4.0) (0.7.8)\n",
            "Requirement already satisfied: click<9.0.0,>=7.1.1 in /usr/local/lib/python3.7/dist-packages (from typer<0.5.0,>=0.3.0->spacy<3.5.0,>=3.4.0->en-core-web-sm==3.4.0) (7.1.2)\n",
            "Requirement already satisfied: MarkupSafe>=0.23 in /usr/local/lib/python3.7/dist-packages (from jinja2->spacy<3.5.0,>=3.4.0->en-core-web-sm==3.4.0) (2.0.1)\n",
            "\u001b[38;5;2m✔ Download and installation successful\u001b[0m\n",
            "You can now load the package via spacy.load('en_core_web_sm')\n"
          ]
        }
      ],
      "source": [
        "!python -m spacy download en"
      ]
    },
    {
      "cell_type": "code",
      "execution_count": 3,
      "metadata": {
        "id": "BzdrI0RDu_4E",
        "colab": {
          "base_uri": "https://localhost:8080/"
        },
        "outputId": "34be7c6c-f6a1-4ef8-d13a-e422dcfad6b1"
      },
      "outputs": [
        {
          "output_type": "stream",
          "name": "stdout",
          "text": [
            "Looking in indexes: https://pypi.org/simple, https://us-python.pkg.dev/colab-wheels/public/simple/\n",
            "Requirement already satisfied: nest_asyncio==1.3.3 in /usr/local/lib/python3.7/dist-packages (1.3.3)\n"
          ]
        }
      ],
      "source": [
        "!pip install nest_asyncio==1.3.3"
      ]
    },
    {
      "cell_type": "code",
      "execution_count": 4,
      "metadata": {
        "id": "D0Ikn8BjvFjM",
        "colab": {
          "base_uri": "https://localhost:8080/"
        },
        "outputId": "2b87fc32-a624-4865-a592-ddfc8f9f9e6a"
      },
      "outputs": [
        {
          "output_type": "stream",
          "name": "stdout",
          "text": [
            "rasa is ready\n"
          ]
        }
      ],
      "source": [
        "import os\n",
        "import rasa\n",
        "import nest_asyncio\n",
        "\n",
        "nest_asyncio.apply()\n",
        "\n",
        "print(\"rasa is ready\")"
      ]
    },
    {
      "cell_type": "code",
      "execution_count": 5,
      "metadata": {
        "id": "agyqDmCEvIQb"
      },
      "outputs": [],
      "source": [
        "from rasa.cli.scaffold import create_initial_project"
      ]
    },
    {
      "cell_type": "code",
      "execution_count": 6,
      "metadata": {
        "id": "kwMY720TvLEu"
      },
      "outputs": [],
      "source": [
        "project = 'test_project'\n",
        "create_initial_project(project)"
      ]
    },
    {
      "cell_type": "code",
      "execution_count": 7,
      "metadata": {
        "id": "JDFuKWsavNLy",
        "colab": {
          "base_uri": "https://localhost:8080/"
        },
        "outputId": "7814f26f-cb73-4b2c-defd-3a5c0062dcbd"
      },
      "outputs": [
        {
          "output_type": "stream",
          "name": "stdout",
          "text": [
            "['config.yml', 'actions.py', 'tests', '__pycache__', 'endpoints.yml', 'credentials.yml', 'domain.yml', '__init__.py', 'data']\n"
          ]
        }
      ],
      "source": [
        "os.chdir(project)\n",
        "print(os.listdir(\".\"))"
      ]
    },
    {
      "cell_type": "code",
      "execution_count": 8,
      "metadata": {
        "id": "ByzUTgZYvPca",
        "colab": {
          "base_uri": "https://localhost:8080/"
        },
        "outputId": "cf3ace16-df68-46f9-d271-fb845660147b"
      },
      "outputs": [
        {
          "output_type": "stream",
          "name": "stdout",
          "text": [
            "config.yml data/ domain.yml models/\n"
          ]
        }
      ],
      "source": [
        "config = \"config.yml\"\n",
        "training_files = \"data/\"\n",
        "domain = 'domain.yml'\n",
        "output = 'models/'\n",
        "\n",
        "print(config, training_files, domain, output)"
      ]
    },
    {
      "cell_type": "code",
      "execution_count": 9,
      "metadata": {
        "id": "0VZe0O3bvRts",
        "colab": {
          "base_uri": "https://localhost:8080/"
        },
        "outputId": "12b5bc41-74e5-449f-bdc2-966e36b75fe2"
      },
      "outputs": [
        {
          "output_type": "stream",
          "name": "stdout",
          "text": [
            "\u001b[94mTraining Core model...\u001b[0m\n"
          ]
        },
        {
          "output_type": "stream",
          "name": "stderr",
          "text": [
            "Processed Story Blocks: 100%|██████████| 5/5 [00:00<00:00, 223.60it/s, # trackers=1]\n",
            "Processed Story Blocks: 100%|██████████| 5/5 [00:00<00:00, 194.26it/s, # trackers=5]\n",
            "Processed Story Blocks: 100%|██████████| 5/5 [00:00<00:00, 112.46it/s, # trackers=20]\n",
            "Processed Story Blocks: 100%|██████████| 5/5 [00:00<00:00, 111.00it/s, # trackers=24]\n",
            "Processed trackers: 100%|██████████| 5/5 [00:00<00:00, 105.37it/s, # actions=16]\n",
            "Processed actions: 16it [00:00, 559.52it/s, # examples=16]\n",
            "Processed trackers: 100%|██████████| 231/231 [00:09<00:00, 25.20it/s, # actions=126]\n",
            "Epochs: 100%|██████████| 100/100 [00:17<00:00,  5.85it/s, t_loss=0.077, loss=0.006, acc=1.000]\n"
          ]
        },
        {
          "output_type": "stream",
          "name": "stdout",
          "text": [
            "\u001b[94mCore model training completed.\u001b[0m\n",
            "\u001b[94mTraining NLU model...\u001b[0m\n"
          ]
        },
        {
          "output_type": "stream",
          "name": "stderr",
          "text": [
            "\u001b[93m/usr/local/lib/python3.7/dist-packages/rasa/utils/common.py:363: UserWarning: You specified 'DIET' to train entities, but no entities are present in the training data. Skip training of entities.\n",
            "Epochs: 100%|██████████| 100/100 [00:18<00:00,  5.39it/s, t_loss=1.515, i_loss=0.133, i_acc=1.000]\n"
          ]
        },
        {
          "output_type": "stream",
          "name": "stdout",
          "text": [
            "\u001b[94mNLU model training completed.\u001b[0m\n",
            "\u001b[92mYour Rasa model is trained and saved at '/content/test_project/models/20220818-093811.tar.gz'.\u001b[0m\n",
            "models/20220818-093811.tar.gz\n"
          ]
        }
      ],
      "source": [
        "model_path = rasa.train(domain, config, [training_files], output)\n",
        "print(model_path)"
      ]
    },
    {
      "cell_type": "code",
      "execution_count": null,
      "metadata": {
        "id": "KBk5hXr_vTkC",
        "colab": {
          "base_uri": "https://localhost:8080/"
        },
        "outputId": "a46be7d4-8aa9-4b8d-f4d9-ef3745c51665"
      },
      "outputs": [
        {
          "output_type": "stream",
          "name": "stdout",
          "text": [
            "Your bot is ready to talk! Type your messages here or send '/stop'.\n",
            "hii\n",
            "\u001b[92mHey! How are you?\u001b[0m\n",
            "I am fine\n",
            "\u001b[92mGreat, carry on!\u001b[0m\n"
          ]
        }
      ],
      "source": [
        "from rasa.jupyter import chat\n",
        "\n",
        "endpoints = 'endpoints.yml'\n",
        "\n",
        "chat(model_path, endpoints)"
      ]
    },
    {
      "cell_type": "code",
      "execution_count": null,
      "metadata": {
        "id": "bjHWRXkfw0L8"
      },
      "outputs": [],
      "source": [
        ""
      ]
    }
  ],
  "metadata": {
    "colab": {
      "name": "rasa_project",
      "provenance": [],
      "authorship_tag": "ABX9TyPqpBvrMk2wYnTXA6NghbB6",
      "include_colab_link": true
    },
    "kernelspec": {
      "display_name": "Python 3",
      "name": "python3"
    },
    "language_info": {
      "name": "python"
    }
  },
  "nbformat": 4,
  "nbformat_minor": 0
}